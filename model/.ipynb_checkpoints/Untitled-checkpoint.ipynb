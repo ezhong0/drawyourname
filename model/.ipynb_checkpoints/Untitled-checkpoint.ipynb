{
 "cells": [
  {
   "cell_type": "code",
   "execution_count": 1,
   "id": "fa439773",
   "metadata": {},
   "outputs": [],
   "source": [
    "# Define if you want to download data from the original database or use the dataset one already provided and preprocessed\n",
    "# Use:\n",
    "# 'load': If you want to load the datase from the directory\n",
    "# 'download': To download data from the database and process the images\n",
    "dataset_load_method = 'load'\n",
    "\n",
    "# Define if you want to save the dataset to a file\n",
    "save_dataset = False\n",
    "\n",
    "# Define if you want to load the trained classifiers from the directory\n",
    "load_classifiers = False\n",
    "\n",
    "# Define if you want to save the trained classifiers to a file\n",
    "save_classifiers = True\n",
    "\n",
    "# Define if you want to save classification test output to a file\n",
    "save_results = True\n",
    "if (save_results):\n",
    "    result_output_file = open('result_output.txt','w') \n",
    "\n",
    "# Define if you want to print errors and warnings\n",
    "enable_error_output = False"
   ]
  },
  {
   "cell_type": "code",
   "execution_count": 2,
   "id": "152feee0",
   "metadata": {},
   "outputs": [
    {
     "data": {
      "text/html": [
       "<script>requirejs.config({paths: { 'plotly': ['https://cdn.plot.ly/plotly-latest.min']},});if(!window.Plotly) {{require(['plotly'],function(plotly) {window.Plotly=plotly;});}}</script>"
      ],
      "text/vnd.plotly.v1+html": [
       "<script>requirejs.config({paths: { 'plotly': ['https://cdn.plot.ly/plotly-latest.min']},});if(!window.Plotly) {{require(['plotly'],function(plotly) {window.Plotly=plotly;});}}</script>"
      ]
     },
     "metadata": {},
     "output_type": "display_data"
    }
   ],
   "source": [
    "import numpy as np\n",
    "import matplotlib.pyplot as plt\n",
    "import plotly.offline as py\n",
    "py.init_notebook_mode(connected=True)\n",
    "import plotly.graph_objs as go\n",
    "import plotly.tools as tls\n",
    "import scipy\n",
    "import sklearn\n",
    "import pandas as pd\n",
    "from sklearn import linear_model, datasets, metrics\n",
    "from sklearn.model_selection import train_test_split\n",
    "from sklearn.preprocessing import binarize\n",
    "from sklearn.neural_network import BernoulliRBM, MLPClassifier\n",
    "#from sklearn.datasets import fetch_mldata\n",
    "from sklearn.pipeline import Pipeline\n",
    "from sklearn.preprocessing import StandardScaler\n",
    "from sklearn.decomposition import PCA\n",
    "from skimage import data, color, exposure, measure\n",
    "from skimage.transform import resize\n",
    "from skimage.feature import hog\n",
    "from sklearn.manifold import TSNE\n",
    "import joblib\n",
    "import urllib\n",
    "from io import StringIO\n",
    "import cv2\n",
    "from scipy import ndimage\n",
    "from difflib import SequenceMatcher\n",
    "from sys import stdout\n",
    "from IPython.display import clear_output"
   ]
  },
  {
   "cell_type": "code",
   "execution_count": 3,
   "id": "d0faf925",
   "metadata": {},
   "outputs": [],
   "source": [
    "def print_percentage(prct, msg=None):\n",
    "    if (prct > 100 or prct < 0):\n",
    "        return\n",
    "    clear_output(wait=True)\n",
    "    if (msg == None):\n",
    "        stdout.write(\"Progress: [\")\n",
    "    else:\n",
    "        stdout.write(msg+\" [\")\n",
    "    end = int(int(prct)/10)\n",
    "    for i in range(0, end):\n",
    "        stdout.write(\"=\")\n",
    "    for i in range(end, 10):\n",
    "        stdout.write(\" \")\n",
    "    stdout.write(\"] \"+str(prct)+\"%\")\n",
    "    stdout.flush()"
   ]
  },
  {
   "cell_type": "code",
   "execution_count": 4,
   "id": "cc4906a5",
   "metadata": {},
   "outputs": [],
   "source": [
    "df=pd.read_csv('first_and_last_names_fix.csv', sep=',',header=None)"
   ]
  },
  {
   "cell_type": "code",
   "execution_count": 5,
   "id": "fcc0bad6",
   "metadata": {},
   "outputs": [],
   "source": [
    "def delborders(crop):\n",
    "    cropf = ndimage.gaussian_filter(crop, 0.5)\n",
    "    cropbin = (cropf<0.8)\n",
    "    labeled, nr_objects = ndimage.label(cropbin)\n",
    "    labels_to_delete = []\n",
    "    for i in range(0, labeled.shape[1]):\n",
    "        if (labeled[labeled.shape[0]-1][i] > 0):\n",
    "            labels_to_delete.append(labeled[labeled.shape[0]-1][i])\n",
    "    \n",
    "    label_in_delete = False\n",
    "    for x in range(0, labeled.shape[1]):\n",
    "        for y in range(0, labeled.shape[0]):\n",
    "            label_in_delete = False\n",
    "            for l in range(0, len(labels_to_delete)):\n",
    "                if (labeled[y][x] == labels_to_delete[l]):\n",
    "                    label_in_delete = True\n",
    "            \n",
    "            if(label_in_delete):\n",
    "                crop[y][x] = 1.0\n",
    "    \n",
    "    return crop"
   ]
  },
  {
   "cell_type": "code",
   "execution_count": 6,
   "id": "9e1570c5",
   "metadata": {},
   "outputs": [],
   "source": [
    "def getcrop(n):\n",
    "    try: \n",
    "        urllib.request.urlretrieve(df[1][n], \"temp.jpg\")\n",
    "    except urllib.error.URLError as e:\n",
    "        return None, False\n",
    "    img = cv2.imread('temp.jpg')\n",
    "    imgh, imgw = img.shape[:-1]\n",
    "    img_rgb = img.copy()\n",
    "    template = cv2.imread('template.png')\n",
    "    h, w = template.shape[:-1]\n",
    "\n",
    "    template_match_success = False\n",
    "    res = cv2.matchTemplate(img_rgb, template, cv2.TM_CCOEFF_NORMED)\n",
    "    threshold = .7\n",
    "    loc = np.where(res >= threshold)\n",
    "    for pt in zip(*loc[::-1]):  # Switch collumns and rows\n",
    "        cv2.rectangle(img_rgb, pt, (pt[0] + w, pt[1] + h), (0, 0, 255), 2)\n",
    "        croph1 = pt[1]\n",
    "        croph2 = pt[1]+h\n",
    "        cropw = pt[0] + w\n",
    "        template_match_success = True\n",
    "\n",
    "    if (not template_match_success):\n",
    "        #Template matching has failed so return...\n",
    "        return img, False\n",
    "\n",
    "    if (df[3][n] == 'first' or df[3][n] == 'last'):\n",
    "        crop = img.copy()[max(croph1-6, 0):min(croph2+6, imgh), cropw:imgw]\n",
    "    else:\n",
    "        crop = img.copy()[max(min(croph2+4, imgh-1), 0):imgh, :]\n",
    "        \n",
    "    crop = color.rgb2gray(crop)\n",
    "    if (df[3][n] == 'first_b' or df[3][n] == 'last_b'):\n",
    "        crop = delborders(crop)\n",
    "    return crop, True"
   ]
  },
  {
   "cell_type": "code",
   "execution_count": 7,
   "id": "4c3586af",
   "metadata": {},
   "outputs": [],
   "source": [
    "def gen_dataset(n=df.shape[0]):\n",
    "    data = []\n",
    "    labels = []\n",
    "    for i in range(1, n):\n",
    "        crop, success = getcrop(i)\n",
    "        if (success):\n",
    "            data.append(crop)\n",
    "            labels.append(df[2][i])\n",
    "        else:\n",
    "            if (enable_error_output):\n",
    "                print(\"[WARNING] Template matching has failed for image: \"+str(i))\n",
    "        print_percentage((i*100/(n-1)), \"Fetched \"+str(i)+\" images:\")\n",
    "    \n",
    "    print_percentage(100, \"Fetched \"+str(n-1)+\" images:\")\n",
    "    print(\"\")\n",
    "    print(\"Finished!\")\n",
    "    return data, labels"
   ]
  },
  {
   "cell_type": "code",
   "execution_count": 8,
   "id": "ff08a75c",
   "metadata": {},
   "outputs": [],
   "source": [
    "# Obtain dataset from original data if defined (we can define how much data of the \n",
    "# original database we want to use to the function or leave it blank to use all the data)\n",
    "if (dataset_load_method == 'download'):\n",
    "    dataset, labels = gen_dataset(10000)\n",
    "\n",
    "# Load dataset from files\n",
    "if (dataset_load_method == 'load'):\n",
    "    dataset = np.load(\"HandwrittenNames_data.npz\", allow_pickle=True)['data']\n",
    "    labels = np.load(\"HandwrittenNames_labels.npz\", allow_pickle=True)['data']"
   ]
  },
  {
   "cell_type": "code",
   "execution_count": 9,
   "id": "d1c33faa",
   "metadata": {},
   "outputs": [],
   "source": [
    "# Save dataset to a file if defined\n",
    "if (save_dataset):\n",
    "    np.savez(\"HandwrittenNames_data.npz\", data=dataset)\n",
    "    np.savez(\"HandwrittenNames_labels.npz\", data=labels)"
   ]
  },
  {
   "cell_type": "code",
   "execution_count": 10,
   "id": "d23b1ece",
   "metadata": {},
   "outputs": [
    {
     "data": {
      "image/png": "[encoded data removed]",
      "text/plain": [
       "<Figure size 640x480 with 1 Axes>"
      ]
     },
     "metadata": {},
     "output_type": "display_data"
    },
    {
     "name": "stdout",
     "output_type": "stream",
     "text": [
      "HIMELIN\n",
      "<class 'numpy.str_'>\n"
     ]
    }
   ],
   "source": [
    "# Change selection to plot a different image and label\n",
    "selection = 0\n",
    "plt.imshow(dataset[selection], cmap='gray')\n",
    "plt.show()\n",
    "print(labels[selection])\n",
    "print(str(type(labels[0])))"
   ]
  },
  {
   "cell_type": "code",
   "execution_count": 11,
   "id": "090fc19f",
   "metadata": {},
   "outputs": [],
   "source": [
    "def get_labels(crop):\n",
    "    img = crop.copy() # gray-scale image\n",
    "\n",
    "    # You could smooth the image (to remove small objects) but we saw better results without using it...\n",
    "    # blur_radius = 0.5\n",
    "    # imgf = ndimage.gaussian_filter(img, blur_radius)\n",
    "\n",
    "    threshold = 0.8\n",
    "\n",
    "    # Find connected components\n",
    "    labeled, nr_objects = ndimage.label(img<threshold) \n",
    "    #print(\"Number of objects is \" +str(nr_objects))\n",
    "\n",
    "    return labeled, nr_objects"
   ]
  },
  {
   "cell_type": "code",
   "execution_count": 12,
   "id": "07a3981f",
   "metadata": {},
   "outputs": [],
   "source": [
    "def get_bboxes(labeled, nr_objects):\n",
    "    bboxes = np.zeros((nr_objects, 2, 2), dtype='int')\n",
    "\n",
    "    x1, y1, x2, y2 = 0, labeled.shape[0], 0, 0\n",
    "    coord = 0\n",
    "    cont = 0\n",
    "    ytop, ybot = 0, 0\n",
    "    nzero, firstb = False, False\n",
    "\n",
    "    for x in range(0, labeled.shape[1]):\n",
    "        nzero, firstb = False, False\n",
    "        ytop, ybot = 0, 0\n",
    "        for y in range(0, labeled.shape[0]):\n",
    "            if (labeled[y][x] > 0):\n",
    "                nzero = True\n",
    "                if (not firstb):\n",
    "                    ytop = y\n",
    "                    firstb = True\n",
    "                ybot = y\n",
    "\n",
    "        if (nzero):\n",
    "            if (ytop < y1):\n",
    "                y1 = ytop\n",
    "            if (ybot > y2):\n",
    "                y2 = ybot\n",
    "            if (coord == 0):\n",
    "                x1 = x\n",
    "                coord = 1\n",
    "            elif (coord == 1):\n",
    "                x2 = x\n",
    "        elif ((not nzero) and (coord == 1)):\n",
    "            bboxes[cont][0] = [x1, y1]\n",
    "            bboxes[cont][1] = [x2, y2]\n",
    "            cont += 1\n",
    "            coord = 0\n",
    "            x1, y1, x2, y2 = 0, labeled.shape[0], 0, 0\n",
    "\n",
    "    bboxes = bboxes[0:cont]\n",
    "    return bboxes, cont\n"
   ]
  },
  {
   "cell_type": "code",
   "execution_count": 13,
   "id": "61950468",
   "metadata": {},
   "outputs": [],
   "source": [
    "\n",
    "def crop_characters(img, bboxes, n):\n",
    "    characters = []\n",
    "    for i in range(0, n):\n",
    "        c = img.copy()[bboxes[i][0][1]:bboxes[i][1][1], bboxes[i][0][0]:bboxes[i][1][0]]\n",
    "        if (c.shape[0] != 0 and c.shape[1] != 0):\n",
    "            c = resize(c, (28, 28), mode='constant', cval=1.0, clip=True)\n",
    "            characters.append((c<0.80).reshape(784))\n",
    "    return characters, len(characters)"
   ]
  },
  {
   "cell_type": "code",
   "execution_count": 14,
   "id": "c7840a6b",
   "metadata": {},
   "outputs": [],
   "source": [
    "def labelsep(label):\n",
    "    if (type(label) is str or type(label) is np.str_):\n",
    "        decomposed_label = list(label)\n",
    "        labels = []\n",
    "        for i in range(0, len(decomposed_label)):\n",
    "            if (decomposed_label[i] != ' '):\n",
    "                labels.append(decomposed_label[i])\n",
    "        return labels\n",
    "    else:\n",
    "        return []"
   ]
  },
  {
   "cell_type": "code",
   "execution_count": 15,
   "id": "2a0af00f",
   "metadata": {},
   "outputs": [],
   "source": [
    "def get_characters(image, label):\n",
    "    labeled, nr_objects = get_labels(image)\n",
    "    bboxes, n = get_bboxes(labeled, nr_objects)\n",
    "    characters, n_chars = crop_characters(image, bboxes, n)\n",
    "    labels = labelsep(label)\n",
    "    return characters, labels[0:n_chars]\n",
    "\n",
    "def get_characters_img_only(image):\n",
    "    labeled, nr_objects = get_labels(image)\n",
    "    bboxes, n = get_bboxes(labeled, nr_objects)\n",
    "    characters, n_chars = crop_characters(image, bboxes, n)\n",
    "    return characters"
   ]
  },
  {
   "cell_type": "code",
   "execution_count": 16,
   "id": "874b9a9e",
   "metadata": {},
   "outputs": [
    {
     "data": {
      "image/png": "[encoded data removed]",
      "text/plain": [
       "<Figure size 640x480 with 1 Axes>"
      ]
     },
     "metadata": {},
     "output_type": "display_data"
    },
    {
     "name": "stdout",
     "output_type": "stream",
     "text": [
      "ROBIN\n"
     ]
    },
    {
     "data": {
      "image/png": "[encoded data removed]",
      "text/plain": [
       "<Figure size 640x480 with 1 Axes>"
      ]
     },
     "metadata": {},
     "output_type": "display_data"
    },
    {
     "data": {
      "image/png": "[encoded data removed]",
      "text/plain": [
       "<Figure size 640x480 with 1 Axes>"
      ]
     },
     "metadata": {},
     "output_type": "display_data"
    },
    {
     "data": {
      "image/png": "[encoded data removed]",
      "text/plain": [
       "<Figure size 640x480 with 1 Axes>"
      ]
     },
     "metadata": {},
     "output_type": "display_data"
    },
    {
     "data": {
      "image/png": "[encoded data removed]",
      "text/plain": [
       "<Figure size 640x480 with 1 Axes>"
      ]
     },
     "metadata": {},
     "output_type": "display_data"
    },
    {
     "data": {
      "image/png": "[encoded data removed]",
      "text/plain": [
       "<Figure size 640x480 with 1 Axes>"
      ]
     },
     "metadata": {},
     "output_type": "display_data"
    },
    {
     "name": "stdout",
     "output_type": "stream",
     "text": [
      "['R', 'O', 'B', 'I', 'N']\n"
     ]
    }
   ],
   "source": [
    "selection = 1\n",
    "plt.imshow(dataset[selection], cmap='gray')\n",
    "plt.show()\n",
    "print(labels[selection])\n",
    "characters, charlabels = get_characters(dataset[selection], labels[selection])\n",
    "for i in range(0, len(characters)):\n",
    "    plt.imshow(characters[i].reshape(28,28), cmap='gray')\n",
    "    plt.show()\n",
    "    \n",
    "print(str(charlabels))"
   ]
  },
  {
   "cell_type": "code",
   "execution_count": 17,
   "id": "76801362",
   "metadata": {},
   "outputs": [],
   "source": [
    "# Define if we want to print status of the training process\n",
    "verbose_classifiers = True"
   ]
  },
  {
   "cell_type": "code",
   "execution_count": 18,
   "id": "52e7834d",
   "metadata": {},
   "outputs": [],
   "source": [
    "# RBM Definition\n",
    "rbm = BernoulliRBM(n_components=300, learning_rate=0.01, n_iter=45, random_state=0, verbose=verbose_classifiers)\n",
    "\n",
    "# MLP Classifier Definition \n",
    "mlp = MLPClassifier(hidden_layer_sizes=(300,400,150), activation='relu', max_iter=5000, tol=0.0001, random_state=1, verbose=verbose_classifiers)\n",
    "\n",
    "# We define the pipeline afterwards: MLP Classifier with RBM features\n",
    "rbm_mlp_classifier = Pipeline(steps=[('rbm', rbm), ('mlp', mlp)])"
   ]
  },
  {
   "cell_type": "code",
   "execution_count": 19,
   "id": "f1ff07fc",
   "metadata": {},
   "outputs": [],
   "source": [
    "# MLP Classifier with HOG (Histogram of Oriented Gradients) features\n",
    "mlp_classifier_HOG = MLPClassifier(hidden_layer_sizes=(300,400,150), max_iter=5000, tol=0.001, random_state=1, verbose=verbose_classifiers)\n"
   ]
  },
  {
   "cell_type": "code",
   "execution_count": 20,
   "id": "3405980b",
   "metadata": {},
   "outputs": [],
   "source": [
    "# MLP Classifier with PCA (Principal Component Analisis) features\n",
    "mlp_classifier_PCA = MLPClassifier(hidden_layer_sizes=(300,400,150), max_iter=5000, tol=0.0001, random_state=1, verbose=verbose_classifiers)\n"
   ]
  },
  {
   "cell_type": "code",
   "execution_count": 21,
   "id": "53145e4f",
   "metadata": {},
   "outputs": [],
   "source": [
    "# MLP Only classifier\n",
    "mlp_classifier = MLPClassifier(hidden_layer_sizes=(300,400,150), max_iter=5000, tol=0.0001, random_state=1, verbose=verbose_classifiers)\n"
   ]
  },
  {
   "cell_type": "code",
   "execution_count": 22,
   "id": "650388dd",
   "metadata": {},
   "outputs": [
    {
     "name": "stdout",
     "output_type": "stream",
     "text": [
      "Train batch lenghts:\n",
      "X_train size: 7985\n",
      "Y_train size: 7985\n",
      "\n",
      "Test batch lenghts:\n",
      "X_test size: 1997\n",
      "Y_test size: 1997\n"
     ]
    }
   ],
   "source": [
    "X_train, X_test, Y_train, Y_test = train_test_split(dataset, labels, test_size=0.2, random_state=0)\n",
    "print(\"Train batch lenghts:\")\n",
    "print(\"X_train size: \"+str(len(X_train)))\n",
    "print(\"Y_train size: \"+str(len(Y_train)))\n",
    "print(\"\")\n",
    "print(\"Test batch lenghts:\")\n",
    "print(\"X_test size: \"+str(len(X_test)))\n",
    "print(\"Y_test size: \"+str(len(Y_test)))"
   ]
  },
  {
   "cell_type": "code",
   "execution_count": 23,
   "id": "9a9f24e9",
   "metadata": {},
   "outputs": [
    {
     "name": "stdout",
     "output_type": "stream",
     "text": [
      "Processing train image 7985 : [==========] 100%\n",
      "94.16405760801503% of the data in train batch correctly extracted.\n"
     ]
    }
   ],
   "source": [
    "X_train_chars = []\n",
    "Y_train_chars = []\n",
    "Train_with_inconsistencies = []\n",
    "z = 0\n",
    "for i in range(0, len(X_train)):\n",
    "    print_percentage(i*100/len(X_train), \"Processing train image \"+ str(i)+\" :\")\n",
    "    characters, charlabels = get_characters(X_train[i], Y_train[i])\n",
    "    if (len(characters) != len(charlabels) or len(characters) == 0 or len(charlabels) == 0):\n",
    "        if (enable_error_output):\n",
    "            print(\"[Warning] Input number \"+str(i)+\" inconsistent! Skipping this one...\")\n",
    "        Train_with_inconsistencies.append(i)\n",
    "        z += 1\n",
    "    else:\n",
    "        X_train_chars.extend(characters)\n",
    "        Y_train_chars.extend(charlabels)\n",
    "\n",
    "print_percentage(100, \"Processing train image \"+ str(len(X_train))+\" :\")\n",
    "print(\"\")\n",
    "print(str(100-(z*100/len(X_train)))+\"% of the data in train batch correctly extracted.\")"
   ]
  },
  {
   "cell_type": "code",
   "execution_count": 24,
   "id": "bd5247b1",
   "metadata": {},
   "outputs": [
    {
     "name": "stdout",
     "output_type": "stream",
     "text": [
      "Character splitted train batch lenghts:\n",
      "X_train_chars size: 43802\n",
      "Y_train_chars size: 43802\n"
     ]
    }
   ],
   "source": [
    "print(\"Character splitted train batch lenghts:\")\n",
    "print(\"X_train_chars size: \"+str(len(X_train_chars)))\n",
    "print(\"Y_train_chars size: \"+str(len(Y_train_chars)))"
   ]
  },
  {
   "cell_type": "code",
   "execution_count": 25,
   "id": "dd9d8e98",
   "metadata": {},
   "outputs": [
    {
     "name": "stdout",
     "output_type": "stream",
     "text": [
      "Processing train image 1997 : [==========] 100%\n",
      "94.04106159238859% of the data in test batch correctly extracted.\n"
     ]
    }
   ],
   "source": [
    "X_test_chars = []\n",
    "Y_test_chars = []\n",
    "Test_without_inconsistencies = []\n",
    "z = 0\n",
    "for i in range(0, len(X_test)):\n",
    "    print_percentage(i*100/len(X_test), \"Processing test image \"+ str(i)+\" :\")\n",
    "    characters, charlabels = get_characters(X_test[i], Y_test[i])\n",
    "    if (len(characters) != len(charlabels) or len(characters) == 0 or len(charlabels) == 0):\n",
    "        if (enable_error_output):\n",
    "            print(\"[Warning] Input number \"+str(i)+\" inconsistent! Skipping this one...\")\n",
    "        z += 1\n",
    "    else:\n",
    "        X_test_chars.extend(characters)\n",
    "        Y_test_chars.extend(charlabels)\n",
    "        Test_without_inconsistencies.append(i)\n",
    "\n",
    "print_percentage(100, \"Processing train image \"+ str(len(X_test))+\" :\")\n",
    "print(\"\")\n",
    "print(str(100-(z*100/len(X_test)))+\"% of the data in test batch correctly extracted.\")"
   ]
  },
  {
   "cell_type": "code",
   "execution_count": 26,
   "id": "07dcb5a3",
   "metadata": {},
   "outputs": [
    {
     "name": "stdout",
     "output_type": "stream",
     "text": [
      "Character splitted test batch lenghts:\n",
      "X_test_chars size: 11013\n",
      "Y_test_chars size: 11013\n"
     ]
    }
   ],
   "source": [
    "print(\"Character splitted test batch lenghts:\")\n",
    "print(\"X_test_chars size: \"+str(len(X_test_chars)))\n",
    "print(\"Y_test_chars size: \"+str(len(Y_test_chars)))"
   ]
  },
  {
   "cell_type": "code",
   "execution_count": null,
   "id": "05c86355",
   "metadata": {},
   "outputs": [
    {
     "name": "stdout",
     "output_type": "stream",
     "text": [
      "Processing train image 7927 : [=         ] 18.09734715309803%"
     ]
    }
   ],
   "source": [
    "fd_train = np.zeros((len(X_train_chars),392))\n",
    "for i in range(0,len(X_train_chars)):\n",
    "    print_percentage(i*100/len(X_train_chars), \"Processing train image \"+ str(i)+\" :\")\n",
    "    fd_train[i], hog_image = hog(X_train_chars[i].reshape(28,28), orientations=8, pixels_per_cell=(4, 4), cells_per_block=(1, 1), visualize = True) \n",
    "\n",
    "print_percentage(100, \"Processing train image \"+ str(len(X_train_chars))+\" :\")\n",
    "\n",
    "print(\"\")\n",
    "fd_test = np.zeros((len(X_test_chars),392))\n",
    "for i in range(0,len(X_test_chars)):\n",
    "    print_percentage(i*100/len(X_test_chars), \"Processing test image \"+ str(i)+\" :\")\n",
    "    fd_test[i], hog_image = hog(X_test_chars[i].reshape(28,28), orientations=8, pixels_per_cell=(4, 4), cells_per_block=(1, 1), visualize = True) \n",
    "    \n",
    "print_percentage(100, \"Processing train image \"+ str(len(X_test_chars))+\" :\")\n",
    "print(\"\")\n",
    "print(\"Finished!\")"
   ]
  },
  {
   "cell_type": "code",
   "execution_count": null,
   "id": "f1c001d5",
   "metadata": {},
   "outputs": [],
   "source": [
    "# We also define a function in case we need to transform something later\n",
    "def HOG_transform(chars):\n",
    "    fd_hog = np.zeros((len(chars),392))\n",
    "    for i in range(0, len(chars)):\n",
    "        fd_hog[i], hog_image = hog(chars[i].reshape(28,28), orientations=8, pixels_per_cell=(4, 4), cells_per_block=(1, 1), visualize = True)\n",
    "    return fd_hog\n",
    "\n",
    "# This function is for visualizing the HOG\n",
    "def get_HOG_image(char):\n",
    "    fd_hog = np.zeros((392))\n",
    "    fd_hog, hog_image = hog(char.reshape(28,28), orientations=8, pixels_per_cell=(4, 4), cells_per_block=(1, 1), visualize = True)\n",
    "    return hog_image"
   ]
  },
  {
   "cell_type": "code",
   "execution_count": null,
   "id": "5fa13831",
   "metadata": {},
   "outputs": [],
   "source": [
    "selection = 50\n",
    "\n",
    "hog_image = get_HOG_image(X_train_chars[selection])\n",
    "fig, (ax1, ax2) = plt.subplots(1, 2, figsize=(8, 4), sharex=True, sharey=True)\n",
    "\n",
    "ax1.axis('off')\n",
    "ax1.imshow(X_train_chars[selection].reshape(28,28), cmap=plt.cm.gray)\n",
    "ax1.set_title('Input image')\n",
    "ax1.set_adjustable('box')\n",
    "\n",
    "# Rescale histogram for better display\n",
    "hog_image_rescaled = exposure.rescale_intensity(hog_image, in_range=(0, 0.02))\n",
    "\n",
    "ax2.axis('off')\n",
    "ax2.imshow(hog_image_rescaled, cmap=plt.cm.gray)\n",
    "ax2.set_title('Histogram of Oriented Gradients')\n",
    "ax1.set_adjustable('box')\n",
    "plt.show()"
   ]
  },
  {
   "cell_type": "code",
   "execution_count": null,
   "id": "4c655756",
   "metadata": {},
   "outputs": [],
   "source": [
    "# Standardising the values\n",
    "Scaler = StandardScaler().fit(X_train_chars)\n",
    "X_pca_train = Scaler.transform(X_train_chars)\n",
    "# Call the PCA method with 100 components. \n",
    "pca = PCA(n_components=100)\n",
    "pca.fit(X_pca_train)\n",
    "P_train = pca.transform(X_pca_train)\n",
    "\n",
    "# Standardising the values\n",
    "X_pca_test = Scaler.transform(X_test_chars)\n",
    "\n",
    "# Call the PCA method with 100 components. \n",
    "P_test = pca.transform(X_pca_test)"
   ]
  },
  {
   "cell_type": "code",
   "execution_count": null,
   "id": "2eae6406",
   "metadata": {},
   "outputs": [],
   "source": [
    "# We also define a function in case we need to transform something later\n",
    "def PCA_transform(chars):\n",
    "    # Standardising the values\n",
    "    X_pca = Scaler.transform(chars)\n",
    "\n",
    "    # Call the PCA method with 100 components. \n",
    "    P = pca.transform(X_pca)\n",
    "    return P"
   ]
  },
  {
   "cell_type": "code",
   "execution_count": null,
   "id": "5cd4751d",
   "metadata": {},
   "outputs": [],
   "source": [
    "print_limit = 1000\n",
    "Target = Y_train_chars[:print_limit]\n",
    "Target_colors = Y_train_chars[:print_limit]\n",
    "for i in range(0, len(Target_colors)):\n",
    "    Target_colors[i] = ord(Target_colors[i])\n",
    "Characters = go.Scatter(\n",
    "    x = P_train[:print_limit,0],\n",
    "    y = P_train[:print_limit,1],\n",
    "    name = Target,\n",
    "    hoveron = Target,\n",
    "    mode = 'markers',\n",
    "    text = Target,\n",
    "    showlegend = True,\n",
    "    marker = dict(\n",
    "        size = 8,\n",
    "        color = Target_colors,\n",
    "        colorscale ='Jet',\n",
    "        showscale = False,\n",
    "        line = dict(\n",
    "            width = 2,\n",
    "            color = 'rgb(255, 255, 255)'\n",
    "        ),\n",
    "        opacity = 0.8\n",
    "    )\n",
    ")\n",
    "data = [Characters]\n",
    "\n",
    "layout = go.Layout(\n",
    "    title= 'Principal Component Analysis (PCA)',\n",
    "    hovermode= 'closest',\n",
    "    xaxis= dict(\n",
    "         title= 'First Principal Component',\n",
    "        ticklen= 5,\n",
    "        zeroline= False,\n",
    "        gridwidth= 2,\n",
    "    ),\n",
    "    yaxis=dict(\n",
    "        title= 'Second Principal Component',\n",
    "        ticklen= 5,\n",
    "        gridwidth= 2,\n",
    "    ),\n",
    "    showlegend= True\n",
    ")\n",
    "\n",
    "\n",
    "fig = dict(data=data, layout=layout)\n",
    "py.iplot(fig, filename='styled-scatter')"
   ]
  },
  {
   "cell_type": "code",
   "execution_count": null,
   "id": "61d9bea5",
   "metadata": {},
   "outputs": [],
   "source": [
    "if (not load_classifiers):\n",
    "    rbm_mlp_classifier.fit(X_train_chars[:], Y_train_chars)\n",
    "else:\n",
    "    rbm = joblib.load('RBM.pkl')\n",
    "    mlp = joblib.load('MLP_withRBMfeatures.pkl')\n",
    "    rbm_mlp_classifier = joblib.load('RBM_MLP_classifier.pkl')"
   ]
  },
  {
   "cell_type": "code",
   "execution_count": null,
   "id": "198dfa3b",
   "metadata": {},
   "outputs": [],
   "source": [
    "# We can define if we want to plot the components extracted by the RBM\n",
    "plot_rbm_features = True\n",
    "\n",
    "if (plot_rbm_features):\n",
    "    plt.figure(figsize=(28, 28))\n",
    "    for i, comp in enumerate(rbm.components_):\n",
    "        plt.subplot(30, 10, i+1)\n",
    "        plt.imshow(comp.reshape((28, 28)), cmap=plt.cm.gray_r, interpolation='nearest')\n",
    "        plt.xticks(())\n",
    "        plt.yticks(())\n",
    "    plt.suptitle('300 components extracted by the RBM', fontsize=16)\n",
    "    plt.subplots_adjust(0.08, 0.02, 0.92, 0.85, 0.08, 0.23)\n",
    "\n",
    "    plt.show()"
   ]
  },
  {
   "cell_type": "code",
   "execution_count": null,
   "id": "63b3a4e6",
   "metadata": {},
   "outputs": [],
   "source": [
    "if (not load_classifiers):\n",
    "    mlp_classifier_HOG.fit(fd_train,Y_train_chars)\n",
    "else:\n",
    "    mlp_classifier_HOG = joblib.load('MLP_HOG.pkl')\n",
    "if (not load_classifiers):\n",
    "    mlp_classifier_PCA.fit(P_train,Y_train_chars)\n",
    "else:\n",
    "    mlp_classifier_PCA = joblib.load('MLP_PCA.pkl')\n",
    "if (not load_classifiers):\n",
    "    mlp_classifier.fit(X_train_chars, Y_train_chars)\n",
    "else:\n",
    "    mlp_classifier = joblib.load('MLP.pkl')"
   ]
  },
  {
   "cell_type": "code",
   "execution_count": null,
   "id": "7bd386eb",
   "metadata": {},
   "outputs": [],
   "source": [
    "# Save the classifiers if enabled:\n",
    "if (save_classifiers):\n",
    "    joblib.dump(rbm, 'RBM.pkl')\n",
    "    joblib.dump(mlp, 'MLP_withRBMfeatures.pkl')\n",
    "    joblib.dump(rbm_mlp_classifier, 'RBM_MLP_classifier.pkl')\n",
    "    joblib.dump(mlp_classifier_HOG, 'MLP_HOG.pkl')\n",
    "    joblib.dump(mlp_classifier_PCA, 'MLP_PCA.pkl')\n",
    "    joblib.dump(mlp_classifier, 'MLP.pkl')"
   ]
  },
  {
   "cell_type": "code",
   "execution_count": null,
   "id": "7b000a3d",
   "metadata": {},
   "outputs": [],
   "source": [
    "# transform should be 'hog' for MLP_HOG classifier and 'pca' for MLP_PCA classifier, otherwise None\n",
    "def predict_full_name(name, classifier, transform=None):\n",
    "    characters = get_characters_img_only(name)\n",
    "    if (transform == 'hog'):\n",
    "        prediction = classifier.predict(HOG_transform(characters))\n",
    "    elif (transform == 'pca'):\n",
    "        prediction = classifier.predict(PCA_transform(characters))\n",
    "    else:\n",
    "        prediction = classifier.predict(characters)\n",
    "    strg = ''\n",
    "    for i in range(0, len(prediction)):\n",
    "        strg = strg+prediction[i]\n",
    "    return strg"
   ]
  },
  {
   "cell_type": "code",
   "execution_count": null,
   "id": "71413cd8",
   "metadata": {},
   "outputs": [],
   "source": [
    "# transform should be 'hog' for MLP_HOG classifier and 'pca' for MLP_PCA classifier, otherwise None\n",
    "def predict_full_names(classifier, transform=None):\n",
    "    correlation=0.0\n",
    "    correct = 0\n",
    "    for i in range(0,len(Test_without_inconsistencies)):\n",
    "        predicted_name = predict_full_name(X_test[Test_without_inconsistencies[i]], classifier, transform)\n",
    "        if (predicted_name == Y_test[Test_without_inconsistencies[i]]):\n",
    "            correct += 1\n",
    "        correlation += similar(predicted_name, Y_test[Test_without_inconsistencies[i]])\n",
    "        print_percentage(i*100/len(X_test),\"Making predictions \"+str(i)+\"/\"+str(len(X_test))+\":\")\n",
    "    print_percentage(100,\"Making predictions \"+str(len(X_test))+\"/\"+str(len(X_test))+\":\")\n",
    "    return (correct/len(Test_without_inconsistencies)), (correlation/len(Test_without_inconsistencies))\n"
   ]
  },
  {
   "cell_type": "code",
   "execution_count": null,
   "id": "c9699a97",
   "metadata": {},
   "outputs": [],
   "source": [
    "def similar(a,b):\n",
    "        return SequenceMatcher(None,a,b).ratio()"
   ]
  },
  {
   "cell_type": "code",
   "execution_count": null,
   "id": "133c71a3",
   "metadata": {},
   "outputs": [],
   "source": [
    "rbm_mlp_prediction = rbm_mlp_classifier.predict(X_test_chars)\n",
    "mlp_prediction_HOG = mlp_classifier_HOG.predict(fd_test)\n",
    "mlp_prediction_PCA = mlp_classifier_PCA.predict(P_test)\n",
    "mlp_prediction = mlp_classifier.predict(X_test_chars)"
   ]
  },
  {
   "cell_type": "code",
   "execution_count": null,
   "id": "55cb3b71",
   "metadata": {},
   "outputs": [],
   "source": [
    "print(\"MLP classification using RBM features:\\n%s\\n\" % (metrics.classification_report(Y_test_chars, rbm_mlp_prediction)))\n",
    "print(\"HOG + MLP classification:\\n%s\\n\" % (metrics.classification_report(Y_test_chars, mlp_prediction_HOG)))\n",
    "print(\"PCA + MLP classification:\\n%s\\n\" % (metrics.classification_report(Y_test_chars, mlp_prediction_PCA)))\n",
    "print(\"MLP only classification:\\n%s\\n\" % (metrics.classification_report(Y_test_chars, mlp_prediction)))\n",
    "\n",
    "if (save_results):\n",
    "    result_output_file.write(\"MLP classification using RBM features:\\n%s\\n\" % (metrics.classification_report(Y_test_chars, rbm_mlp_prediction)))\n",
    "    result_output_file.write(\"\\nHOG + MLP classification:\\n%s\\n\" % (metrics.classification_report(Y_test_chars, mlp_prediction_HOG)))\n",
    "    result_output_file.write(\"\\nPCA + MLP classification:\\n%s\\n\" % (metrics.classification_report(Y_test_chars, mlp_prediction_PCA)))\n",
    "    result_output_file.write(\"\\nMLP only classification:\\n%s\\n\" % (metrics.classification_report(Y_test_chars, mlp_prediction)))\n"
   ]
  },
  {
   "cell_type": "code",
   "execution_count": null,
   "id": "d966098f",
   "metadata": {},
   "outputs": [],
   "source": [
    "correct_rbm_mlp, corr_rbm_mlp = predict_full_names(rbm_mlp_classifier)\n",
    "correct_mlp_HOG, corr_mlp_HOG = predict_full_names(mlp_classifier_HOG, 'hog')\n",
    "correct_mlp_PCA, corr_mlp_PCA = predict_full_names(mlp_classifier_PCA, 'pca')\n",
    "correct_mlp, corr_mlp = predict_full_names(mlp_classifier)"
   ]
  },
  {
   "cell_type": "code",
   "execution_count": null,
   "id": "db48f37a",
   "metadata": {},
   "outputs": [],
   "source": [
    "print(\"Full name test results: \")\n",
    "print(\"========================================================================\")\n",
    "print(\"| Classifier            | Correct percentage      | Correlation ratio  |\")\n",
    "print(\"========================================================================\")\n",
    "print(\"| MLP with RBM features | \"+str(correct_rbm_mlp)+\"     | \"+str(corr_rbm_mlp)+\" |\")\n",
    "print(\"========================================================================\")\n",
    "print(\"| MLP with HOG features | \"+str(correct_mlp_HOG)+\"     | \"+str(corr_mlp_HOG)+\" |\")\n",
    "print(\"========================================================================\")\n",
    "print(\"| MLP with PCA features | \"+str(correct_mlp_PCA)+\"     | \"+str(corr_mlp_PCA)+\" |\")\n",
    "print(\"========================================================================\")\n",
    "print(\"| MLP only              | \"+str(correct_mlp)+\"     | \"+str(corr_mlp)+\" |\")\n",
    "print(\"========================================================================\")\n",
    "\n",
    "if (save_results):\n",
    "    result_output_file.write(\"\\n\\nFull name test results: \")\n",
    "    result_output_file.write(\"\\n========================================================================\")\n",
    "    result_output_file.write(\"\\n| Classifier            | Correct percentage      | Correlation ratio  |\")\n",
    "    result_output_file.write(\"\\n========================================================================\")\n",
    "    result_output_file.write(\"\\n| MLP with RBM features | \"+str(correct_rbm_mlp)+\"     | \"+str(corr_rbm_mlp)+\" |\")\n",
    "    result_output_file.write(\"\\n========================================================================\")\n",
    "    result_output_file.write(\"\\n| MLP with HOG features | \"+str(correct_mlp_HOG)+\"     | \"+str(corr_mlp_HOG)+\" |\")\n",
    "    result_output_file.write(\"\\n========================================================================\")\n",
    "    result_output_file.write(\"\\n| MLP with PCA features | \"+str(correct_mlp_PCA)+\"     | \"+str(corr_mlp_PCA)+\" |\")\n",
    "    result_output_file.write(\"\\n========================================================================\")\n",
    "    result_output_file.write(\"\\n| MLP only              | \"+str(correct_mlp)+\"     | \"+str(corr_mlp)+\" |\")\n",
    "    result_output_file.write(\"\\n========================================================================\")"
   ]
  },
  {
   "cell_type": "code",
   "execution_count": null,
   "id": "a1d22dcf",
   "metadata": {},
   "outputs": [],
   "source": [
    "indexes = [22, 55, 33, 88, 44]\n",
    "for ind in indexes:\n",
    "    rbm_mlp_predict = predict_full_name(X_test[ind], rbm_mlp_classifier)\n",
    "    mlp_hog_predict = predict_full_name(X_test[ind], mlp_classifier_HOG, 'hog')\n",
    "    mlp_pca_predict = predict_full_name(X_test[ind], mlp_classifier_PCA, 'pca')\n",
    "    mlp_predict = predict_full_name(X_test[ind], mlp_classifier)\n",
    "    print(\"> Real label: \"+Y_test[ind])\n",
    "    print(\"> Image:\")\n",
    "    plt.imshow(X_test[ind], cmap='gray')\n",
    "    plt.show()\n",
    "    print(\"MLP with RBM features predicted: \"+rbm_mlp_predict)\n",
    "    print(\"MLP with HOG features predicted: \"+mlp_hog_predict)\n",
    "    print(\"MLP with PCA features predicted: \"+mlp_pca_predict)\n",
    "    print(\"MLP predicted: \"+mlp_predict)\n",
    "    print(\"\")\n",
    "    \n",
    "    if (save_results):\n",
    "        result_output_file.write(\"\\n\\n> Real label: \"+Y_test[ind])\n",
    "        result_output_file.write(\"\\nMLP with RBM features predicted: \"+rbm_mlp_predict)\n",
    "        result_output_file.write(\"\\nMLP with HOG features predicted: \"+mlp_hog_predict)\n",
    "        result_output_file.write(\"\\nMLP with PCA features predicted: \"+mlp_pca_predict)\n",
    "        result_output_file.write(\"\\nMLP predicted: \"+mlp_predict)\n",
    "        result_output_file.write(\"\\n\")"
   ]
  },
  {
   "cell_type": "code",
   "execution_count": null,
   "id": "e7e3f37f",
   "metadata": {},
   "outputs": [],
   "source": [
    "if (save_results):\n",
    "    result_output_file.close()"
   ]
  },
  {
   "cell_type": "code",
   "execution_count": null,
   "id": "7fbde567",
   "metadata": {},
   "outputs": [],
   "source": []
  }
 ],
 "metadata": {
  "kernelspec": {
   "display_name": "Python 3 (ipykernel)",
   "language": "python",
   "name": "python3"
  },
  "language_info": {
   "codemirror_mode": {
    "name": "ipython",
    "version": 3
   },
   "file_extension": ".py",
   "mimetype": "text/x-python",
   "name": "python",
   "nbconvert_exporter": "python",
   "pygments_lexer": "ipython3",
   "version": "3.9.6"
  }
 },
 "nbformat": 4,
 "nbformat_minor": 5
}
